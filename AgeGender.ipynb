{
 "cells": [
  {
   "cell_type": "code",
   "execution_count": null,
   "metadata": {
    "_cell_guid": "b1076dfc-b9ad-4769-8c92-a6c4dae69d19",
    "_uuid": "8f2839f25d086af736a60e9eeb907d3b93b6e0e5"
   },
   "outputs": [],
   "source": [
    "import numpy as np\n",
    "import pandas as pd\n",
    "import os\n",
    "import sys\n",
    "import math\n",
    "import glob\n",
    "import pandas as pd\n",
    "import matplotlib.pyplot as plt\n",
    "import seaborn as sns\n",
    "import PIL\n",
    "from PIL import Image\n",
    "import keras\n",
    "from keras.utils import to_categorical\n",
    "from keras.callbacks import ModelCheckpoint\n",
    "from keras.layers import Input, Dense, BatchNormalization, Conv2D, MaxPool2D, GlobalMaxPool2D, Dropout\n",
    "from keras.optimizers import SGD\n",
    "from keras.models import Model\n",
    "print(\"Python\", sys.version_info[0],sys.version_info[1],sys.version_info[2])\n",
    "print(\"Numpy Version: \", np.__version__)\n",
    "print(\"Keras Version: \", keras.__version__)\n",
    "print(\"Pandas Version: \", pd.__version__)\n",
    "print(\"Seaborn Version: \", sns.__version__)\n",
    "print(\"PIL Version: \", PIL.__version__)"
   ]
  },
  {
   "cell_type": "markdown",
   "metadata": {},
   "source": [
    " # Our library versions\n",
    " Python3.7.4 <br />\n",
    " Numpy Version:  1.16.5 <br />\n",
    " Keras Version:  2.3.0 <br />\n",
    " Pandas Version:  0.25.1 <br />\n",
    " Seaborn Version:  0.9.0 <br />"
   ]
  },
  {
   "cell_type": "markdown",
   "metadata": {},
   "source": [
    "# Data Directory: This Folder must be in same folder with code."
   ]
  },
  {
   "cell_type": "code",
   "execution_count": null,
   "metadata": {},
   "outputs": [],
   "source": [
    "DATA_DIR = \"DataSmall\""
   ]
  },
  {
   "cell_type": "code",
   "execution_count": null,
   "metadata": {
    "_uuid": "867fd6bebbfda496ca070db1695fc38c6fa169d2"
   },
   "outputs": [],
   "source": [
    "\n",
    "EPOCH = 12\n",
    "TRAIN_TEST_SPLIT = 0.7\n",
    "IM_WIDTH = IM_HEIGHT = 200\n",
    "ID_GENDER_MAP = {0: 'male', 1: 'female'}\n",
    "GENDER_ID_MAP = dict((g, i) for i, g in ID_GENDER_MAP.items())"
   ]
  },
  {
   "cell_type": "code",
   "execution_count": null,
   "metadata": {
    "_uuid": "f82c1685a37d4e77022ff870cde57ea82f52c1a0"
   },
   "outputs": [],
   "source": [
    "def parse_filepath(filepath):\n",
    "    path, filename = os.path.split(filepath)\n",
    "    filename, ext = os.path.splitext(filename)\n",
    "    print(filename, path)\n",
    "    age, gender, _,_ = filename.split(\"_\")\n",
    "    return int(age), ID_GENDER_MAP[int(gender)]\n",
    "files = glob.glob(os.path.join(DATA_DIR, \"*.jpg\"))\n",
    "attributes = list(map(parse_filepath, files))"
   ]
  },
  {
   "cell_type": "code",
   "execution_count": null,
   "metadata": {
    "_uuid": "527d33d9c883d6e45f1576152660ec2feb9be7cb"
   },
   "outputs": [],
   "source": [
    "df = pd.DataFrame(attributes)\n",
    "df['file'] = files\n",
    "df.columns = ['age', 'gender', 'file']\n",
    "df = df[(df['age'] > 10) & (df['age'] < 65)]\n",
    "df = df.dropna()\n",
    "df.head()\n",
    "#df.groupby('age').count()\n",
    "#df.groupby('gender').count()"
   ]
  },
  {
   "cell_type": "code",
   "execution_count": null,
   "metadata": {
    "_uuid": "6302cb5074f68d4c397d2b133d2d7b4b4386a25b"
   },
   "outputs": [],
   "source": [
    "df.describe()"
   ]
  },
  {
   "cell_type": "code",
   "execution_count": null,
   "metadata": {
    "_uuid": "80540a33e6cca052ac63c2799ddeea026a271d79"
   },
   "outputs": [],
   "source": [
    "fig, ax1 = plt.subplots(1, 1, figsize=(8, 6))\n",
    "_ = sns.boxplot(data=df, x='gender', y='age', ax=ax1)"
   ]
  },
  {
   "cell_type": "code",
   "execution_count": null,
   "metadata": {
    "_uuid": "4931ac80da59c52f82a0b3a4562369ec55ef5b16",
    "scrolled": true
   },
   "outputs": [],
   "source": [
    "df.groupby(by=['gender'])['age'].count().plot(kind='bar')"
   ]
  },
  {
   "cell_type": "code",
   "execution_count": null,
   "metadata": {
    "_uuid": "6e9d71f01a878481ab3104a17372880e69eca247"
   },
   "outputs": [],
   "source": [
    "df['age'].hist()"
   ]
  },
  {
   "cell_type": "code",
   "execution_count": null,
   "metadata": {
    "_uuid": "25b28ba3c0a314feac7346129d50c1a7dfda6bcf"
   },
   "outputs": [],
   "source": [
    "p = np.random.permutation(len(df))\n",
    "train_up_to = int(len(df) * TRAIN_TEST_SPLIT)\n",
    "train_idx = p[:train_up_to]\n",
    "test_idx = p[train_up_to:]\n",
    "\n",
    "\n",
    "train_up_to = int(train_up_to * 0.7)\n",
    "train_idx, valid_idx = train_idx[:train_up_to], train_idx[train_up_to:]\n",
    "\n",
    "df['gender_id'] = df['gender'].map(lambda gender: GENDER_ID_MAP[gender])\n",
    "\n",
    "max_age = df['age'].max()\n",
    "len(train_idx), len(valid_idx), len(test_idx), max_age"
   ]
  },
  {
   "cell_type": "code",
   "execution_count": null,
   "metadata": {
    "_uuid": "653d7b0737ffcaf69140e6de74e111e165ae808a"
   },
   "outputs": [],
   "source": [
    "def get_data_generator(df, indices, for_training, batch_size=16):\n",
    "    images, ages, genders = [], [], []\n",
    "    while True:\n",
    "        for i in indices:\n",
    "            r = df.iloc[i]\n",
    "            file, age, gender = r['file'], r['age'], r['gender_id']\n",
    "            im = Image.open(file)\n",
    "            im = im.resize((IM_WIDTH, IM_HEIGHT))\n",
    "            im = np.array(im) / 255.0\n",
    "            images.append(im)\n",
    "            ages.append(age / max_age)\n",
    "            genders.append(to_categorical(gender, 2))\n",
    "            if len(images) >= batch_size:\n",
    "                yield np.array(images), [np.array(ages), np.array(genders)]\n",
    "                images, ages, genders = [], [], []\n",
    "        if not for_training:\n",
    "            break"
   ]
  },
  {
   "cell_type": "code",
   "execution_count": null,
   "metadata": {
    "_uuid": "ab00d8ecdf293d999eb0feeb1accb82d936937ff",
    "scrolled": false
   },
   "outputs": [],
   "source": [
    "def conv_block(inp, filters=32, bn=True, pool=True):\n",
    "    _ = Conv2D(filters=filters, kernel_size=3, activation='relu')(inp)\n",
    "    if bn:\n",
    "        _ = BatchNormalization()(_)\n",
    "    if pool:\n",
    "        _ = MaxPool2D()(_)\n",
    "    return _\n",
    "\n",
    "input_layer = Input(shape=(IM_HEIGHT, IM_WIDTH, 3))\n",
    "_ = conv_block(input_layer, filters=32, bn=False, pool=False)\n",
    "_ = conv_block(_, filters=32*2)\n",
    "_ = conv_block(_, filters=32*3)\n",
    "_ = conv_block(_, filters=32*4)\n",
    "_ = conv_block(_, filters=32*5)\n",
    "_ = conv_block(_, filters=32*6)\n",
    "_ = conv_block(_, filters=32*7)\n",
    "bottleneck = GlobalMaxPool2D()(_)\n",
    "\n",
    "##### for age calculation ######\n",
    "_ = Dense(units=64, activation='relu')(bottleneck)\n",
    "age_output = Dense(units=1, activation='sigmoid', name='age_output')(_)\n",
    "\n",
    "##### for gender calculation ######\n",
    "_ = Dense(units=32, activation='relu')(bottleneck)\n",
    "gender_output = Dense(units=len(GENDER_ID_MAP), activation='softmax', name='gender_output')(_)\n",
    "\n",
    "model = Model(inputs=input_layer, outputs=[age_output, gender_output])\n",
    "model.compile(optimizer='rmsprop', \n",
    "              loss={'age_output': 'mse', 'gender_output': 'categorical_crossentropy'},\n",
    "              loss_weights={'age_output': 2., 'gender_output': 1.},\n",
    "              metrics={'age_output': 'mae', 'gender_output': 'accuracy'})\n",
    "#model.summary()"
   ]
  },
  {
   "cell_type": "code",
   "execution_count": null,
   "metadata": {
    "_uuid": "e623d31c68be2b4f61c3f72749b23e1c694da729"
   },
   "outputs": [],
   "source": [
    "batch_size = 64\n",
    "valid_batch_size = 64\n",
    "train_gen = get_data_generator(df, train_idx, for_training=True, batch_size=batch_size)\n",
    "valid_gen = get_data_generator(df, valid_idx, for_training=True, batch_size=valid_batch_size)\n",
    "\n",
    "callbacks = [ModelCheckpoint(\"./model_checkpoint\", monitor='val_loss')]\n",
    "\n",
    "history = model.fit_generator(train_gen,\n",
    "                    steps_per_epoch=len(train_idx)//batch_size,\n",
    "                    epochs=EPOCH,\n",
    "                    callbacks=callbacks,\n",
    "                    validation_data=valid_gen,\n",
    "                    validation_steps=len(valid_idx)//valid_batch_size)"
   ]
  },
  {
   "cell_type": "code",
   "execution_count": null,
   "metadata": {
    "_uuid": "5f764bc8c13608a9777e4dc63e00275d243570c2"
   },
   "outputs": [],
   "source": [
    "def  plot_train_history(history):\n",
    "    fig, axes = plt.subplots(1, 3, figsize=(20, 5))\n",
    "    \n",
    "    axes[0].plot(history.history['gender_output_accuracy'], label='Gender Train accuracy')\n",
    "    axes[0].plot(history.history['val_gender_output_accuracy'], label='Gener Val accuracy')\n",
    "    axes[0].set_xlabel('Epochs')\n",
    "    axes[0].legend()\n",
    "\n",
    "    axes[1].plot(history.history['age_output_mae'], label='Age Train MAE')\n",
    "    axes[1].plot(history.history['val_age_output_mae'], label='Age Val MAE')\n",
    "    axes[1].set_xlabel('Epochs')\n",
    "    axes[1].legend()  \n",
    "\n",
    "    axes[2].plot(history.history['loss'], label='Training loss')\n",
    "    axes[2].plot(history.history['val_loss'], label='Validation loss')\n",
    "    axes[2].set_xlabel('Epochs')\n",
    "    axes[2].legend()\n",
    "\n",
    "plot_train_history(history)"
   ]
  },
  {
   "cell_type": "code",
   "execution_count": null,
   "metadata": {
    "_uuid": "a33d2008b8da404b134a39a8c25d216cb2c6c533"
   },
   "outputs": [],
   "source": [
    "test_gen = get_data_generator(df, test_idx, for_training=False, batch_size=128)\n",
    "dict(zip(model.metrics_names, model.evaluate_generator(test_gen, steps=len(test_idx)//128)))"
   ]
  },
  {
   "cell_type": "code",
   "execution_count": null,
   "metadata": {
    "_uuid": "e4f8ee9244872a68e902cefc7ae1825ac7a94ce3"
   },
   "outputs": [],
   "source": [
    "test_gen = get_data_generator(df, test_idx, for_training=False, batch_size=128)\n",
    "x_test, (age_true, gender_true)= next(test_gen)\n",
    "age_pred, gender_pred = model.predict_on_batch(x_test)"
   ]
  },
  {
   "cell_type": "code",
   "execution_count": null,
   "metadata": {},
   "outputs": [],
   "source": [
    "gender_true = gender_true.argmax(axis=-1)\n",
    "gender_pred = gender_pred.argmax(axis=-1)\n",
    "age_true = age_true * max_age\n",
    "age_pred = age_pred * max_age"
   ]
  },
  {
   "cell_type": "code",
   "execution_count": null,
   "metadata": {
    "_uuid": "f207a3b95ddd1cfddaf7dd7cc0f61c703db0d48b"
   },
   "outputs": [],
   "source": [
    "n = 30\n",
    "random_indices = np.random.permutation(n)\n",
    "n_cols = 6\n",
    "n_rows = math.ceil(n / n_cols)\n",
    "fig, axes = plt.subplots(n_rows, n_cols, figsize=(15, 15))\n",
    "for i, img_idx in enumerate(random_indices):\n",
    "    ax = axes.flat[i]\n",
    "    ax.imshow(x_test[img_idx])\n",
    "    ax.set_title('Predict a:{}, g:{}'.format(int(age_pred[img_idx]), ID_GENDER_MAP[gender_pred[img_idx]]))\n",
    "    ax.set_xlabel('Real a:{}, g:{}'.format(int(age_true[img_idx]), ID_GENDER_MAP[gender_true[img_idx]]))\n",
    "    ax.set_xticks([])\n",
    "    ax.set_yticks([])"
   ]
  }
 ],
 "metadata": {
  "kernelspec": {
   "display_name": "Python 3",
   "language": "python",
   "name": "python3"
  },
  "language_info": {
   "codemirror_mode": {
    "name": "ipython",
    "version": 3
   },
   "file_extension": ".py",
   "mimetype": "text/x-python",
   "name": "python",
   "nbconvert_exporter": "python",
   "pygments_lexer": "ipython3",
   "version": "3.7.4"
  }
 },
 "nbformat": 4,
 "nbformat_minor": 1
}
